{
  "nbformat": 4,
  "nbformat_minor": 0,
  "metadata": {
    "colab": {
      "provenance": [],
      "gpuType": "T4",
      "toc_visible": true
    },
    "kernelspec": {
      "name": "python3",
      "display_name": "Python 3"
    },
    "language_info": {
      "name": "python"
    },
    "accelerator": "GPU"
  },
  "cells": [
    {
      "cell_type": "markdown",
      "source": [
        "# Setup"
      ],
      "metadata": {
        "id": "dXIWAgVFjmaG"
      }
    },
    {
      "cell_type": "markdown",
      "source": [
        "## Clone repo"
      ],
      "metadata": {
        "id": "EJeMlt0TjyuR"
      }
    },
    {
      "cell_type": "code",
      "execution_count": null,
      "metadata": {
        "colab": {
          "base_uri": "https://localhost:8080/"
        },
        "id": "Go909VtfTNIC",
        "outputId": "515fa0d0-9e29-4c60-ab5f-8c6b08af7c3b"
      },
      "outputs": [
        {
          "output_type": "stream",
          "name": "stdout",
          "text": [
            "Cloning into 'Retina'...\n",
            "remote: Enumerating objects: 45, done.\u001b[K\n",
            "remote: Counting objects: 100% (45/45), done.\u001b[K\n",
            "remote: Compressing objects: 100% (43/43), done.\u001b[K\n",
            "remote: Total 45 (delta 2), reused 37 (delta 1), pack-reused 0\u001b[K\n",
            "Receiving objects: 100% (45/45), 8.86 MiB | 22.12 MiB/s, done.\n",
            "Resolving deltas: 100% (2/2), done.\n"
          ]
        }
      ],
      "source": [
        "!git clone --depth 1 \"https://github.com/renzhamin/retina-blood-vessel-segmentation\" Retina"
      ]
    },
    {
      "cell_type": "code",
      "source": [
        "%cd Retina"
      ],
      "metadata": {
        "colab": {
          "base_uri": "https://localhost:8080/"
        },
        "id": "cat9vSR8T2w2",
        "outputId": "ecc9572e-f2db-4a83-f340-1b8173d95c55"
      },
      "execution_count": null,
      "outputs": [
        {
          "output_type": "stream",
          "name": "stdout",
          "text": [
            "/content/Retina\n"
          ]
        }
      ]
    },
    {
      "cell_type": "markdown",
      "source": [
        "## Prepare dataset"
      ],
      "metadata": {
        "id": "chGkS5a6jwPM"
      }
    },
    {
      "cell_type": "code",
      "source": [
        "!gdown 1SdoqZI3yClfCVfqMI7c45omEoyvnBLpS"
      ],
      "metadata": {
        "colab": {
          "base_uri": "https://localhost:8080/"
        },
        "id": "qWDlZDZ_T9IJ",
        "outputId": "aabee556-525b-48c7-bdb3-ad2138e30001"
      },
      "execution_count": null,
      "outputs": [
        {
          "output_type": "stream",
          "name": "stdout",
          "text": [
            "Downloading...\n",
            "From: https://drive.google.com/uc?id=1SdoqZI3yClfCVfqMI7c45omEoyvnBLpS\n",
            "To: /content/Retina/archive.zip\n",
            "100% 29.8M/29.8M [00:00<00:00, 91.0MB/s]\n"
          ]
        }
      ]
    },
    {
      "cell_type": "code",
      "source": [
        "!unzip archive.zip"
      ],
      "metadata": {
        "id": "7gLIzA0ZUA8K"
      },
      "execution_count": null,
      "outputs": []
    },
    {
      "cell_type": "code",
      "source": [
        "!sed -i 's/data_path = .*/data_path = \"DRIVE\"/g' ./data_aug.py"
      ],
      "metadata": {
        "id": "1e23ZVFJV8CN"
      },
      "execution_count": null,
      "outputs": []
    },
    {
      "cell_type": "code",
      "source": [
        "!python ./data_aug.py"
      ],
      "metadata": {
        "colab": {
          "base_uri": "https://localhost:8080/"
        },
        "id": "gkts1mlOUG4u",
        "outputId": "5e7057db-f717-4df3-9498-a9f8ddda2f06"
      },
      "execution_count": null,
      "outputs": [
        {
          "output_type": "stream",
          "name": "stdout",
          "text": [
            "Train: 20 - 20\n",
            "Test: 20 - 20\n",
            "100% 20/20 [00:01<00:00, 10.59it/s]\n",
            "100% 20/20 [00:00<00:00, 24.83it/s]\n"
          ]
        }
      ]
    },
    {
      "cell_type": "code",
      "source": [
        "%cd UNET"
      ],
      "metadata": {
        "colab": {
          "base_uri": "https://localhost:8080/"
        },
        "id": "0mOgAXfkUri8",
        "outputId": "1365c8f1-f4ef-4210-b4cf-f4d3ecb11b16"
      },
      "execution_count": null,
      "outputs": [
        {
          "output_type": "stream",
          "name": "stdout",
          "text": [
            "/content/Retina/UNET\n"
          ]
        }
      ]
    },
    {
      "cell_type": "code",
      "source": [
        "!rm -r files"
      ],
      "metadata": {
        "id": "FVsh-xC7U65G",
        "colab": {
          "base_uri": "https://localhost:8080/"
        },
        "outputId": "28e09343-ca67-481b-854d-c3a5f9564f7e"
      },
      "execution_count": null,
      "outputs": [
        {
          "output_type": "stream",
          "name": "stdout",
          "text": [
            "rm: cannot remove 'files': No such file or directory\n"
          ]
        }
      ]
    },
    {
      "cell_type": "markdown",
      "source": [
        "# Train or Download Checkpoint"
      ],
      "metadata": {
        "id": "qwA14jYKi9hF"
      }
    },
    {
      "cell_type": "markdown",
      "source": [
        "## Train Unet"
      ],
      "metadata": {
        "id": "5MoNASL4jGiK"
      }
    },
    {
      "cell_type": "code",
      "source": [
        "!python ./train.py"
      ],
      "metadata": {
        "colab": {
          "base_uri": "https://localhost:8080/"
        },
        "id": "ojuRFl3vVVTQ",
        "outputId": "8540a360-c452-424e-9591-3ffa88d60c81"
      },
      "execution_count": null,
      "outputs": [
        {
          "output_type": "stream",
          "name": "stdout",
          "text": [
            "Dataset Size:\n",
            "Train: 80 - Valid: 20\n",
            "\n",
            "Valid loss improved from inf to 1.3382. Saving checkpoint: files/checkpoint.pth\n",
            "Epoch: 01 | Epoch Time: 0m 34s\n",
            "\tTrain Loss: 1.167\n",
            "\t Val. Loss: 1.338\n",
            "\n",
            "Valid loss improved from 1.3382 to 0.9775. Saving checkpoint: files/checkpoint.pth\n",
            "Epoch: 02 | Epoch Time: 0m 34s\n",
            "\tTrain Loss: 0.982\n",
            "\t Val. Loss: 0.977\n",
            "\n",
            "Valid loss improved from 0.9775 to 0.8880. Saving checkpoint: files/checkpoint.pth\n",
            "Epoch: 03 | Epoch Time: 0m 36s\n",
            "\tTrain Loss: 0.923\n",
            "\t Val. Loss: 0.888\n",
            "\n",
            "Valid loss improved from 0.8880 to 0.8481. Saving checkpoint: files/checkpoint.pth\n",
            "Epoch: 04 | Epoch Time: 0m 36s\n",
            "\tTrain Loss: 0.877\n",
            "\t Val. Loss: 0.848\n",
            "\n",
            "Valid loss improved from 0.8481 to 0.8158. Saving checkpoint: files/checkpoint.pth\n",
            "Epoch: 05 | Epoch Time: 0m 36s\n",
            "\tTrain Loss: 0.835\n",
            "\t Val. Loss: 0.816\n",
            "\n",
            "Valid loss improved from 0.8158 to 0.7717. Saving checkpoint: files/checkpoint.pth\n",
            "Epoch: 06 | Epoch Time: 0m 36s\n",
            "\tTrain Loss: 0.796\n",
            "\t Val. Loss: 0.772\n",
            "\n",
            "Valid loss improved from 0.7717 to 0.7409. Saving checkpoint: files/checkpoint.pth\n",
            "Epoch: 07 | Epoch Time: 0m 36s\n",
            "\tTrain Loss: 0.759\n",
            "\t Val. Loss: 0.741\n",
            "\n",
            "Valid loss improved from 0.7409 to 0.7120. Saving checkpoint: files/checkpoint.pth\n",
            "Epoch: 08 | Epoch Time: 0m 36s\n",
            "\tTrain Loss: 0.725\n",
            "\t Val. Loss: 0.712\n",
            "\n",
            "Valid loss improved from 0.7120 to 0.6726. Saving checkpoint: files/checkpoint.pth\n",
            "Epoch: 09 | Epoch Time: 0m 36s\n",
            "\tTrain Loss: 0.695\n",
            "\t Val. Loss: 0.673\n",
            "\n",
            "Valid loss improved from 0.6726 to 0.6538. Saving checkpoint: files/checkpoint.pth\n",
            "Epoch: 10 | Epoch Time: 0m 36s\n",
            "\tTrain Loss: 0.664\n",
            "\t Val. Loss: 0.654\n",
            "\n",
            "Valid loss improved from 0.6538 to 0.6235. Saving checkpoint: files/checkpoint.pth\n",
            "Epoch: 11 | Epoch Time: 0m 36s\n",
            "\tTrain Loss: 0.636\n",
            "\t Val. Loss: 0.623\n",
            "\n",
            "Valid loss improved from 0.6235 to 0.6098. Saving checkpoint: files/checkpoint.pth\n",
            "Epoch: 12 | Epoch Time: 0m 36s\n",
            "\tTrain Loss: 0.612\n",
            "\t Val. Loss: 0.610\n",
            "\n",
            "Valid loss improved from 0.6098 to 0.5815. Saving checkpoint: files/checkpoint.pth\n",
            "Epoch: 13 | Epoch Time: 0m 36s\n",
            "\tTrain Loss: 0.589\n",
            "\t Val. Loss: 0.581\n",
            "\n",
            "Valid loss improved from 0.5815 to 0.5688. Saving checkpoint: files/checkpoint.pth\n",
            "Epoch: 14 | Epoch Time: 0m 36s\n",
            "\tTrain Loss: 0.567\n",
            "\t Val. Loss: 0.569\n",
            "\n",
            "Valid loss improved from 0.5688 to 0.5452. Saving checkpoint: files/checkpoint.pth\n",
            "Epoch: 15 | Epoch Time: 0m 36s\n",
            "\tTrain Loss: 0.548\n",
            "\t Val. Loss: 0.545\n",
            "\n",
            "Valid loss improved from 0.5452 to 0.5328. Saving checkpoint: files/checkpoint.pth\n",
            "Epoch: 16 | Epoch Time: 0m 36s\n",
            "\tTrain Loss: 0.527\n",
            "\t Val. Loss: 0.533\n",
            "\n",
            "Valid loss improved from 0.5328 to 0.5101. Saving checkpoint: files/checkpoint.pth\n",
            "Epoch: 17 | Epoch Time: 0m 36s\n",
            "\tTrain Loss: 0.509\n",
            "\t Val. Loss: 0.510\n",
            "\n",
            "Valid loss improved from 0.5101 to 0.5002. Saving checkpoint: files/checkpoint.pth\n",
            "Epoch: 18 | Epoch Time: 0m 36s\n",
            "\tTrain Loss: 0.494\n",
            "\t Val. Loss: 0.500\n",
            "\n",
            "Valid loss improved from 0.5002 to 0.4923. Saving checkpoint: files/checkpoint.pth\n",
            "Epoch: 19 | Epoch Time: 0m 36s\n",
            "\tTrain Loss: 0.480\n",
            "\t Val. Loss: 0.492\n",
            "\n",
            "Valid loss improved from 0.4923 to 0.4746. Saving checkpoint: files/checkpoint.pth\n",
            "Epoch: 20 | Epoch Time: 0m 36s\n",
            "\tTrain Loss: 0.463\n",
            "\t Val. Loss: 0.475\n",
            "\n",
            "Valid loss improved from 0.4746 to 0.4640. Saving checkpoint: files/checkpoint.pth\n",
            "Epoch: 21 | Epoch Time: 0m 36s\n",
            "\tTrain Loss: 0.447\n",
            "\t Val. Loss: 0.464\n",
            "\n",
            "Valid loss improved from 0.4640 to 0.4569. Saving checkpoint: files/checkpoint.pth\n",
            "Epoch: 22 | Epoch Time: 0m 36s\n",
            "\tTrain Loss: 0.435\n",
            "\t Val. Loss: 0.457\n",
            "\n",
            "Valid loss improved from 0.4569 to 0.4534. Saving checkpoint: files/checkpoint.pth\n",
            "Epoch: 23 | Epoch Time: 0m 36s\n",
            "\tTrain Loss: 0.423\n",
            "\t Val. Loss: 0.453\n",
            "\n",
            "Valid loss improved from 0.4534 to 0.4490. Saving checkpoint: files/checkpoint.pth\n",
            "Epoch: 24 | Epoch Time: 0m 36s\n",
            "\tTrain Loss: 0.412\n",
            "\t Val. Loss: 0.449\n",
            "\n",
            "Valid loss improved from 0.4490 to 0.4311. Saving checkpoint: files/checkpoint.pth\n",
            "Epoch: 25 | Epoch Time: 0m 36s\n",
            "\tTrain Loss: 0.399\n",
            "\t Val. Loss: 0.431\n",
            "\n",
            "Valid loss improved from 0.4311 to 0.4261. Saving checkpoint: files/checkpoint.pth\n",
            "Epoch: 26 | Epoch Time: 0m 36s\n",
            "\tTrain Loss: 0.387\n",
            "\t Val. Loss: 0.426\n",
            "\n",
            "Epoch: 27 | Epoch Time: 0m 36s\n",
            "\tTrain Loss: 0.377\n",
            "\t Val. Loss: 0.427\n",
            "\n",
            "Valid loss improved from 0.4261 to 0.4197. Saving checkpoint: files/checkpoint.pth\n",
            "Epoch: 28 | Epoch Time: 0m 36s\n",
            "\tTrain Loss: 0.366\n",
            "\t Val. Loss: 0.420\n",
            "\n",
            "Valid loss improved from 0.4197 to 0.4131. Saving checkpoint: files/checkpoint.pth\n",
            "Epoch: 29 | Epoch Time: 0m 36s\n",
            "\tTrain Loss: 0.353\n",
            "\t Val. Loss: 0.413\n",
            "\n",
            "Epoch: 30 | Epoch Time: 0m 35s\n",
            "\tTrain Loss: 0.342\n",
            "\t Val. Loss: 0.418\n",
            "\n",
            "Epoch: 31 | Epoch Time: 0m 36s\n",
            "\tTrain Loss: 0.331\n",
            "\t Val. Loss: 0.421\n",
            "\n",
            "Valid loss improved from 0.4131 to 0.4073. Saving checkpoint: files/checkpoint.pth\n",
            "Epoch: 32 | Epoch Time: 0m 36s\n",
            "\tTrain Loss: 0.322\n",
            "\t Val. Loss: 0.407\n",
            "\n",
            "Valid loss improved from 0.4073 to 0.4028. Saving checkpoint: files/checkpoint.pth\n",
            "Epoch: 33 | Epoch Time: 0m 36s\n",
            "\tTrain Loss: 0.311\n",
            "\t Val. Loss: 0.403\n",
            "\n",
            "Epoch: 34 | Epoch Time: 0m 36s\n",
            "\tTrain Loss: 0.302\n",
            "\t Val. Loss: 0.424\n",
            "\n",
            "Valid loss improved from 0.4028 to 0.3938. Saving checkpoint: files/checkpoint.pth\n",
            "Epoch: 35 | Epoch Time: 0m 36s\n",
            "\tTrain Loss: 0.293\n",
            "\t Val. Loss: 0.394\n",
            "\n",
            "Epoch: 36 | Epoch Time: 0m 35s\n",
            "\tTrain Loss: 0.285\n",
            "\t Val. Loss: 0.401\n",
            "\n",
            "Valid loss improved from 0.3938 to 0.3937. Saving checkpoint: files/checkpoint.pth\n",
            "Epoch: 37 | Epoch Time: 0m 36s\n",
            "\tTrain Loss: 0.277\n",
            "\t Val. Loss: 0.394\n",
            "\n",
            "Valid loss improved from 0.3937 to 0.3905. Saving checkpoint: files/checkpoint.pth\n",
            "Epoch: 38 | Epoch Time: 0m 36s\n",
            "\tTrain Loss: 0.271\n",
            "\t Val. Loss: 0.390\n",
            "\n",
            "Epoch: 39 | Epoch Time: 0m 35s\n",
            "\tTrain Loss: 0.265\n",
            "\t Val. Loss: 0.395\n",
            "\n",
            "Valid loss improved from 0.3905 to 0.3899. Saving checkpoint: files/checkpoint.pth\n",
            "Epoch: 40 | Epoch Time: 0m 36s\n",
            "\tTrain Loss: 0.258\n",
            "\t Val. Loss: 0.390\n",
            "\n",
            "Epoch: 41 | Epoch Time: 0m 36s\n",
            "\tTrain Loss: 0.252\n",
            "\t Val. Loss: 0.393\n",
            "\n",
            "Epoch: 42 | Epoch Time: 0m 36s\n",
            "\tTrain Loss: 0.246\n",
            "\t Val. Loss: 0.393\n",
            "\n",
            "Valid loss improved from 0.3899 to 0.3865. Saving checkpoint: files/checkpoint.pth\n",
            "Epoch: 43 | Epoch Time: 0m 36s\n",
            "\tTrain Loss: 0.242\n",
            "\t Val. Loss: 0.387\n",
            "\n",
            "Valid loss improved from 0.3865 to 0.3863. Saving checkpoint: files/checkpoint.pth\n",
            "Epoch: 44 | Epoch Time: 0m 36s\n",
            "\tTrain Loss: 0.239\n",
            "\t Val. Loss: 0.386\n",
            "\n",
            "Epoch: 45 | Epoch Time: 0m 36s\n",
            "\tTrain Loss: 0.235\n",
            "\t Val. Loss: 0.387\n",
            "\n",
            "Valid loss improved from 0.3863 to 0.3863. Saving checkpoint: files/checkpoint.pth\n",
            "Epoch: 46 | Epoch Time: 0m 36s\n",
            "\tTrain Loss: 0.231\n",
            "\t Val. Loss: 0.386\n",
            "\n",
            "Valid loss improved from 0.3863 to 0.3856. Saving checkpoint: files/checkpoint.pth\n",
            "Epoch: 47 | Epoch Time: 0m 36s\n",
            "\tTrain Loss: 0.227\n",
            "\t Val. Loss: 0.386\n",
            "\n",
            "Valid loss improved from 0.3856 to 0.3825. Saving checkpoint: files/checkpoint.pth\n",
            "Epoch: 48 | Epoch Time: 0m 36s\n",
            "\tTrain Loss: 0.223\n",
            "\t Val. Loss: 0.382\n",
            "\n",
            "Epoch: 49 | Epoch Time: 0m 35s\n",
            "\tTrain Loss: 0.219\n",
            "\t Val. Loss: 0.389\n",
            "\n",
            "Epoch: 50 | Epoch Time: 0m 36s\n",
            "\tTrain Loss: 0.218\n",
            "\t Val. Loss: 0.384\n",
            "\n"
          ]
        }
      ]
    },
    {
      "cell_type": "markdown",
      "source": [],
      "metadata": {
        "id": "nuAebAQkM5J4"
      }
    },
    {
      "cell_type": "markdown",
      "source": [
        "## Train Unet with ResNet 50 Encoder"
      ],
      "metadata": {
        "id": "EMMek5agM6gy"
      }
    },
    {
      "cell_type": "code",
      "source": [
        "!python ./train_uresnet.py"
      ],
      "metadata": {
        "colab": {
          "base_uri": "https://localhost:8080/"
        },
        "id": "95gkn5cEM-we",
        "outputId": "5db7fa4c-b0c9-4523-be1b-2cabbd518107"
      },
      "execution_count": null,
      "outputs": [
        {
          "output_type": "stream",
          "name": "stdout",
          "text": [
            "/usr/local/lib/python3.10/dist-packages/torchvision/models/_utils.py:208: UserWarning: The parameter 'pretrained' is deprecated since 0.13 and may be removed in the future, please use 'weights' instead.\n",
            "  warnings.warn(\n",
            "/usr/local/lib/python3.10/dist-packages/torchvision/models/_utils.py:223: UserWarning: Arguments other than a weight enum or `None` for 'weights' are deprecated since 0.13 and may be removed in the future. The current behavior is equivalent to passing `weights=ResNet18_Weights.IMAGENET1K_V1`. You can also use `weights=ResNet18_Weights.DEFAULT` to get the most up-to-date weights.\n",
            "  warnings.warn(msg)\n",
            "Dataset Size:\n",
            "Train: 80 - Valid: 20\n",
            "\n",
            "/usr/local/lib/python3.10/dist-packages/torchvision/models/_utils.py:223: UserWarning: Arguments other than a weight enum or `None` for 'weights' are deprecated since 0.13 and may be removed in the future. The current behavior is equivalent to passing `weights=ResNet50_Weights.IMAGENET1K_V1`. You can also use `weights=ResNet50_Weights.DEFAULT` to get the most up-to-date weights.\n",
            "  warnings.warn(msg)\n",
            "Entering training loop...\n",
            "Valid loss improved from inf to 1.8768. Saving checkpoint: files/checkpoint.pth\n",
            "Epoch: 01 | Epoch Time: 0m 38s\n",
            "\tTrain Loss: 1.441\n",
            "\t Val. Loss: 1.877\n",
            "\n",
            "Valid loss improved from 1.8768 to 1.1200. Saving checkpoint: files/checkpoint.pth\n",
            "Epoch: 02 | Epoch Time: 0m 39s\n",
            "\tTrain Loss: 1.179\n",
            "\t Val. Loss: 1.120\n",
            "\n",
            "Valid loss improved from 1.1200 to 1.0762. Saving checkpoint: files/checkpoint.pth\n",
            "Epoch: 03 | Epoch Time: 0m 39s\n",
            "\tTrain Loss: 1.111\n",
            "\t Val. Loss: 1.076\n",
            "\n",
            "Valid loss improved from 1.0762 to 1.0439. Saving checkpoint: files/checkpoint.pth\n",
            "Epoch: 04 | Epoch Time: 0m 40s\n",
            "\tTrain Loss: 1.074\n",
            "\t Val. Loss: 1.044\n",
            "\n",
            "Valid loss improved from 1.0439 to 1.0247. Saving checkpoint: files/checkpoint.pth\n",
            "Epoch: 05 | Epoch Time: 0m 41s\n",
            "\tTrain Loss: 1.039\n",
            "\t Val. Loss: 1.025\n",
            "\n",
            "Valid loss improved from 1.0247 to 0.9900. Saving checkpoint: files/checkpoint.pth\n",
            "Epoch: 06 | Epoch Time: 0m 41s\n",
            "\tTrain Loss: 1.008\n",
            "\t Val. Loss: 0.990\n",
            "\n",
            "Valid loss improved from 0.9900 to 0.9533. Saving checkpoint: files/checkpoint.pth\n",
            "Epoch: 07 | Epoch Time: 0m 41s\n",
            "\tTrain Loss: 0.976\n",
            "\t Val. Loss: 0.953\n",
            "\n",
            "Valid loss improved from 0.9533 to 0.9300. Saving checkpoint: files/checkpoint.pth\n",
            "Epoch: 08 | Epoch Time: 0m 41s\n",
            "\tTrain Loss: 0.952\n",
            "\t Val. Loss: 0.930\n",
            "\n",
            "Valid loss improved from 0.9300 to 0.9131. Saving checkpoint: files/checkpoint.pth\n",
            "Epoch: 09 | Epoch Time: 0m 41s\n",
            "\tTrain Loss: 0.921\n",
            "\t Val. Loss: 0.913\n",
            "\n",
            "Valid loss improved from 0.9131 to 0.8793. Saving checkpoint: files/checkpoint.pth\n",
            "Epoch: 10 | Epoch Time: 0m 41s\n",
            "\tTrain Loss: 0.892\n",
            "\t Val. Loss: 0.879\n",
            "\n",
            "Valid loss improved from 0.8793 to 0.8554. Saving checkpoint: files/checkpoint.pth\n",
            "Epoch: 11 | Epoch Time: 0m 42s\n",
            "\tTrain Loss: 0.864\n",
            "\t Val. Loss: 0.855\n",
            "\n",
            "Valid loss improved from 0.8554 to 0.8280. Saving checkpoint: files/checkpoint.pth\n",
            "Epoch: 12 | Epoch Time: 0m 41s\n",
            "\tTrain Loss: 0.836\n",
            "\t Val. Loss: 0.828\n",
            "\n",
            "Valid loss improved from 0.8280 to 0.8164. Saving checkpoint: files/checkpoint.pth\n",
            "Epoch: 13 | Epoch Time: 0m 41s\n",
            "\tTrain Loss: 0.808\n",
            "\t Val. Loss: 0.816\n",
            "\n",
            "Valid loss improved from 0.8164 to 0.7878. Saving checkpoint: files/checkpoint.pth\n",
            "Epoch: 14 | Epoch Time: 0m 41s\n",
            "\tTrain Loss: 0.779\n",
            "\t Val. Loss: 0.788\n",
            "\n",
            "Valid loss improved from 0.7878 to 0.7711. Saving checkpoint: files/checkpoint.pth\n",
            "Epoch: 15 | Epoch Time: 0m 41s\n",
            "\tTrain Loss: 0.753\n",
            "\t Val. Loss: 0.771\n",
            "\n",
            "Valid loss improved from 0.7711 to 0.7536. Saving checkpoint: files/checkpoint.pth\n",
            "Epoch: 16 | Epoch Time: 0m 42s\n",
            "\tTrain Loss: 0.725\n",
            "\t Val. Loss: 0.754\n",
            "\n",
            "Valid loss improved from 0.7536 to 0.7351. Saving checkpoint: files/checkpoint.pth\n",
            "Epoch: 17 | Epoch Time: 0m 50s\n",
            "\tTrain Loss: 0.698\n",
            "\t Val. Loss: 0.735\n",
            "\n",
            "Valid loss improved from 0.7351 to 0.7228. Saving checkpoint: files/checkpoint.pth\n",
            "Epoch: 18 | Epoch Time: 0m 41s\n",
            "\tTrain Loss: 0.673\n",
            "\t Val. Loss: 0.723\n",
            "\n",
            "Valid loss improved from 0.7228 to 0.6930. Saving checkpoint: files/checkpoint.pth\n",
            "Epoch: 19 | Epoch Time: 0m 42s\n",
            "\tTrain Loss: 0.647\n",
            "\t Val. Loss: 0.693\n",
            "\n",
            "Valid loss improved from 0.6930 to 0.6791. Saving checkpoint: files/checkpoint.pth\n",
            "Epoch: 20 | Epoch Time: 0m 41s\n",
            "\tTrain Loss: 0.625\n",
            "\t Val. Loss: 0.679\n",
            "\n",
            "Valid loss improved from 0.6791 to 0.6748. Saving checkpoint: files/checkpoint.pth\n",
            "Epoch: 21 | Epoch Time: 0m 41s\n",
            "\tTrain Loss: 0.602\n",
            "\t Val. Loss: 0.675\n",
            "\n",
            "Valid loss improved from 0.6748 to 0.6386. Saving checkpoint: files/checkpoint.pth\n",
            "Epoch: 22 | Epoch Time: 0m 42s\n",
            "\tTrain Loss: 0.578\n",
            "\t Val. Loss: 0.639\n",
            "\n",
            "Valid loss improved from 0.6386 to 0.6211. Saving checkpoint: files/checkpoint.pth\n",
            "Epoch: 23 | Epoch Time: 0m 41s\n",
            "\tTrain Loss: 0.555\n",
            "\t Val. Loss: 0.621\n",
            "\n",
            "Valid loss improved from 0.6211 to 0.6082. Saving checkpoint: files/checkpoint.pth\n",
            "Epoch: 24 | Epoch Time: 0m 42s\n",
            "\tTrain Loss: 0.532\n",
            "\t Val. Loss: 0.608\n",
            "\n",
            "Valid loss improved from 0.6082 to 0.5923. Saving checkpoint: files/checkpoint.pth\n",
            "Epoch: 25 | Epoch Time: 0m 42s\n",
            "\tTrain Loss: 0.509\n",
            "\t Val. Loss: 0.592\n",
            "\n",
            "Valid loss improved from 0.5923 to 0.5805. Saving checkpoint: files/checkpoint.pth\n",
            "Epoch: 26 | Epoch Time: 0m 41s\n",
            "\tTrain Loss: 0.489\n",
            "\t Val. Loss: 0.580\n",
            "\n",
            "Valid loss improved from 0.5805 to 0.5628. Saving checkpoint: files/checkpoint.pth\n",
            "Epoch: 27 | Epoch Time: 0m 42s\n",
            "\tTrain Loss: 0.472\n",
            "\t Val. Loss: 0.563\n",
            "\n",
            "Valid loss improved from 0.5628 to 0.5604. Saving checkpoint: files/checkpoint.pth\n",
            "Epoch: 28 | Epoch Time: 0m 41s\n",
            "\tTrain Loss: 0.457\n",
            "\t Val. Loss: 0.560\n",
            "\n",
            "Valid loss improved from 0.5604 to 0.5400. Saving checkpoint: files/checkpoint.pth\n",
            "Epoch: 29 | Epoch Time: 0m 41s\n",
            "\tTrain Loss: 0.443\n",
            "\t Val. Loss: 0.540\n",
            "\n",
            "Valid loss improved from 0.5400 to 0.5307. Saving checkpoint: files/checkpoint.pth\n",
            "Epoch: 30 | Epoch Time: 0m 42s\n",
            "\tTrain Loss: 0.423\n",
            "\t Val. Loss: 0.531\n",
            "\n",
            "Valid loss improved from 0.5307 to 0.5195. Saving checkpoint: files/checkpoint.pth\n",
            "Epoch: 31 | Epoch Time: 0m 42s\n",
            "\tTrain Loss: 0.406\n",
            "\t Val. Loss: 0.520\n",
            "\n",
            "Valid loss improved from 0.5195 to 0.5075. Saving checkpoint: files/checkpoint.pth\n",
            "Epoch: 32 | Epoch Time: 0m 41s\n",
            "\tTrain Loss: 0.390\n",
            "\t Val. Loss: 0.507\n",
            "\n",
            "Valid loss improved from 0.5075 to 0.5015. Saving checkpoint: files/checkpoint.pth\n",
            "Epoch: 33 | Epoch Time: 0m 42s\n",
            "\tTrain Loss: 0.377\n",
            "\t Val. Loss: 0.502\n",
            "\n",
            "Valid loss improved from 0.5015 to 0.4964. Saving checkpoint: files/checkpoint.pth\n",
            "Epoch: 34 | Epoch Time: 0m 41s\n",
            "\tTrain Loss: 0.365\n",
            "\t Val. Loss: 0.496\n",
            "\n",
            "Valid loss improved from 0.4964 to 0.4855. Saving checkpoint: files/checkpoint.pth\n",
            "Epoch: 35 | Epoch Time: 0m 41s\n",
            "\tTrain Loss: 0.354\n",
            "\t Val. Loss: 0.485\n",
            "\n",
            "Valid loss improved from 0.4855 to 0.4757. Saving checkpoint: files/checkpoint.pth\n",
            "Epoch: 36 | Epoch Time: 0m 42s\n",
            "\tTrain Loss: 0.344\n",
            "\t Val. Loss: 0.476\n",
            "\n",
            "Valid loss improved from 0.4757 to 0.4705. Saving checkpoint: files/checkpoint.pth\n",
            "Epoch: 37 | Epoch Time: 0m 41s\n",
            "\tTrain Loss: 0.335\n",
            "\t Val. Loss: 0.471\n",
            "\n",
            "Valid loss improved from 0.4705 to 0.4637. Saving checkpoint: files/checkpoint.pth\n",
            "Epoch: 38 | Epoch Time: 0m 41s\n",
            "\tTrain Loss: 0.325\n",
            "\t Val. Loss: 0.464\n",
            "\n",
            "Valid loss improved from 0.4637 to 0.4611. Saving checkpoint: files/checkpoint.pth\n",
            "Epoch: 39 | Epoch Time: 0m 41s\n",
            "\tTrain Loss: 0.315\n",
            "\t Val. Loss: 0.461\n",
            "\n",
            "Valid loss improved from 0.4611 to 0.4539. Saving checkpoint: files/checkpoint.pth\n",
            "Epoch: 40 | Epoch Time: 0m 42s\n",
            "\tTrain Loss: 0.306\n",
            "\t Val. Loss: 0.454\n",
            "\n",
            "Valid loss improved from 0.4539 to 0.4484. Saving checkpoint: files/checkpoint.pth\n",
            "Epoch: 41 | Epoch Time: 0m 42s\n",
            "\tTrain Loss: 0.297\n",
            "\t Val. Loss: 0.448\n",
            "\n",
            "Valid loss improved from 0.4484 to 0.4411. Saving checkpoint: files/checkpoint.pth\n",
            "Epoch: 42 | Epoch Time: 0m 42s\n",
            "\tTrain Loss: 0.289\n",
            "\t Val. Loss: 0.441\n",
            "\n",
            "Valid loss improved from 0.4411 to 0.4390. Saving checkpoint: files/checkpoint.pth\n",
            "Epoch: 43 | Epoch Time: 0m 41s\n",
            "\tTrain Loss: 0.281\n",
            "\t Val. Loss: 0.439\n",
            "\n",
            "Valid loss improved from 0.4390 to 0.4325. Saving checkpoint: files/checkpoint.pth\n",
            "Epoch: 44 | Epoch Time: 0m 42s\n",
            "\tTrain Loss: 0.274\n",
            "\t Val. Loss: 0.433\n",
            "\n",
            "Valid loss improved from 0.4325 to 0.4260. Saving checkpoint: files/checkpoint.pth\n",
            "Epoch: 45 | Epoch Time: 0m 41s\n",
            "\tTrain Loss: 0.268\n",
            "\t Val. Loss: 0.426\n",
            "\n",
            "Epoch: 46 | Epoch Time: 0m 40s\n",
            "\tTrain Loss: 0.263\n",
            "\t Val. Loss: 0.427\n",
            "\n",
            "Valid loss improved from 0.4260 to 0.4222. Saving checkpoint: files/checkpoint.pth\n",
            "Epoch: 47 | Epoch Time: 0m 42s\n",
            "\tTrain Loss: 0.258\n",
            "\t Val. Loss: 0.422\n",
            "\n",
            "Valid loss improved from 0.4222 to 0.4202. Saving checkpoint: files/checkpoint.pth\n",
            "Epoch: 48 | Epoch Time: 0m 42s\n",
            "\tTrain Loss: 0.252\n",
            "\t Val. Loss: 0.420\n",
            "\n",
            "Valid loss improved from 0.4202 to 0.4169. Saving checkpoint: files/checkpoint.pth\n",
            "Epoch: 49 | Epoch Time: 0m 42s\n",
            "\tTrain Loss: 0.247\n",
            "\t Val. Loss: 0.417\n",
            "\n",
            "Epoch: 50 | Epoch Time: 0m 40s\n",
            "\tTrain Loss: 0.242\n",
            "\t Val. Loss: 0.418\n",
            "\n"
          ]
        }
      ]
    },
    {
      "cell_type": "markdown",
      "source": [
        "## Download Checkpoint"
      ],
      "metadata": {
        "id": "Gv2zMymfjQLo"
      }
    },
    {
      "cell_type": "code",
      "source": [
        "!gdown 1wIeeqefdNVNIThKTVg1vXQRwRoArPPbr # UNet"
      ],
      "metadata": {
        "colab": {
          "base_uri": "https://localhost:8080/"
        },
        "id": "4XgID5EBjUQU",
        "outputId": "1743b10d-6a89-4b20-a984-8a21be8b722a"
      },
      "execution_count": null,
      "outputs": [
        {
          "output_type": "stream",
          "name": "stdout",
          "text": [
            "Downloading...\n",
            "From: https://drive.google.com/uc?id=1wIeeqefdNVNIThKTVg1vXQRwRoArPPbr\n",
            "To: /content/Retina/UNET/checkpoint.pth\n",
            "100% 124M/124M [00:05<00:00, 24.5MB/s]\n"
          ]
        }
      ]
    },
    {
      "cell_type": "code",
      "source": [
        "!mkdir -p files\n",
        "!mv checkpoint.pth files/"
      ],
      "metadata": {
        "id": "KrFdgSL1jezS"
      },
      "execution_count": null,
      "outputs": []
    },
    {
      "cell_type": "markdown",
      "source": [
        "# Test"
      ],
      "metadata": {
        "id": "tNFI4KeajL93"
      }
    },
    {
      "cell_type": "markdown",
      "source": [
        "## Test Unet"
      ],
      "metadata": {
        "id": "AEUKFWU8jNwg"
      }
    },
    {
      "cell_type": "code",
      "source": [
        "!rm -r results"
      ],
      "metadata": {
        "id": "vHxGR7vgVWq4"
      },
      "execution_count": null,
      "outputs": []
    },
    {
      "cell_type": "code",
      "source": [
        "!python ./test.py"
      ],
      "metadata": {
        "colab": {
          "base_uri": "https://localhost:8080/"
        },
        "id": "o0gFt_4TdryY",
        "outputId": "12b7e8dc-da9f-4c53-aee1-5096ec8bc566"
      },
      "execution_count": null,
      "outputs": [
        {
          "output_type": "stream",
          "name": "stdout",
          "text": [
            "100% 20/20 [00:10<00:00,  1.95it/s]\n",
            "Jaccard: 0.6613 - F1: 0.7958 - Recall: 0.7745 - Precision: 0.8235 - Acc: 0.9655\n",
            "FPS:  27.101683717068333\n"
          ]
        }
      ]
    },
    {
      "cell_type": "markdown",
      "source": [
        "## Test Unet with ResNet50 Encoder"
      ],
      "metadata": {
        "id": "BKfsne5VO-ZF"
      }
    },
    {
      "cell_type": "code",
      "source": [
        "!rm -r results"
      ],
      "metadata": {
        "id": "jxgGfjojO_rX"
      },
      "execution_count": null,
      "outputs": []
    },
    {
      "cell_type": "code",
      "source": [
        "!python ./test_uresnet.py"
      ],
      "metadata": {
        "colab": {
          "base_uri": "https://localhost:8080/"
        },
        "id": "rvGhTW38PAVV",
        "outputId": "76cc99bd-b6c3-4cfe-a873-113ceb67dadc"
      },
      "execution_count": null,
      "outputs": [
        {
          "output_type": "stream",
          "name": "stdout",
          "text": [
            "/usr/local/lib/python3.10/dist-packages/torchvision/models/_utils.py:208: UserWarning: The parameter 'pretrained' is deprecated since 0.13 and may be removed in the future, please use 'weights' instead.\n",
            "  warnings.warn(\n",
            "/usr/local/lib/python3.10/dist-packages/torchvision/models/_utils.py:223: UserWarning: Arguments other than a weight enum or `None` for 'weights' are deprecated since 0.13 and may be removed in the future. The current behavior is equivalent to passing `weights=ResNet18_Weights.IMAGENET1K_V1`. You can also use `weights=ResNet18_Weights.DEFAULT` to get the most up-to-date weights.\n",
            "  warnings.warn(msg)\n",
            "/usr/local/lib/python3.10/dist-packages/torchvision/models/_utils.py:223: UserWarning: Arguments other than a weight enum or `None` for 'weights' are deprecated since 0.13 and may be removed in the future. The current behavior is equivalent to passing `weights=ResNet50_Weights.IMAGENET1K_V1`. You can also use `weights=ResNet50_Weights.DEFAULT` to get the most up-to-date weights.\n",
            "  warnings.warn(msg)\n",
            "100% 20/20 [00:10<00:00,  1.91it/s]\n",
            "Jaccard: 0.6579 - F1: 0.7934 - Recall: 0.7787 - Precision: 0.8135 - Acc: 0.9648\n",
            "FPS:  27.19890693479707\n"
          ]
        }
      ]
    }
  ]
}